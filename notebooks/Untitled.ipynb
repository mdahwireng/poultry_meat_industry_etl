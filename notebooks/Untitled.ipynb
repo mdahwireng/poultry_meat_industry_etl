{
 "cells": [
  {
   "cell_type": "code",
   "execution_count": 1,
   "id": "cfad7603",
   "metadata": {},
   "outputs": [],
   "source": [
    "import os\n",
    "import sys\n",
    "import pandas as pd"
   ]
  },
  {
   "cell_type": "code",
   "execution_count": 2,
   "id": "4a37a415",
   "metadata": {},
   "outputs": [],
   "source": [
    "os.chdir('../')"
   ]
  },
  {
   "cell_type": "code",
   "execution_count": 3,
   "id": "e0fda4e3",
   "metadata": {},
   "outputs": [],
   "source": [
    "sys.path.append(os.path.abspath(os.path.join(\"./\")))\n",
    "from modules.db_utils import db_con, exc_query"
   ]
  },
  {
   "cell_type": "code",
   "execution_count": 4,
   "id": "2de606a7",
   "metadata": {},
   "outputs": [
    {
     "name": "stdout",
     "output_type": "stream",
     "text": [
      "Connection created!\n",
      "\n"
     ]
    }
   ],
   "source": [
    "db = \"meat_poultry_wh\"\n",
    "con = db_con(dbname=db)"
   ]
  },
  {
   "cell_type": "code",
   "execution_count": 5,
   "id": "fbee141c",
   "metadata": {},
   "outputs": [],
   "source": [
    "cur = con.cursor()"
   ]
  },
  {
   "cell_type": "code",
   "execution_count": 19,
   "id": "0f82ceb5",
   "metadata": {},
   "outputs": [
    {
     "data": {
      "text/plain": [
       "{'AMS RTE Canada EV Program',\n",
       " 'Animal Foods Inspection',\n",
       " 'Certification - Cysticercus',\n",
       " 'Certification - Export',\n",
       " 'Certification - Trichinae',\n",
       " 'Egg Product',\n",
       " 'Food Inspection',\n",
       " 'Identification - Meat',\n",
       " 'Identification - Poultry',\n",
       " 'Identification - Siluriformes',\n",
       " 'Imported Product',\n",
       " 'Meat Processing',\n",
       " 'Meat Slaughter',\n",
       " 'Off-Premise Freezing - Egg Products',\n",
       " 'Off-Premise Freezing - Meat',\n",
       " 'Off-Premise Freezing - Poultry',\n",
       " 'Off-Premise Freezing - Siluriformes',\n",
       " 'Poultry Processing',\n",
       " 'Poultry Slaughter',\n",
       " 'Technical Animal Fats',\n",
       " 'Voluntary Processing - Egg Products',\n",
       " 'Voluntary Processing - Exotic',\n",
       " 'Voluntary Processing - Meat',\n",
       " 'Voluntary Processing - Poultry',\n",
       " 'Voluntary Processing - Rabbit',\n",
       " 'Voluntary Slaughter - Exotic',\n",
       " 'Voluntary Slaughter - Meat',\n",
       " 'Voluntary Slaughter - Poultry',\n",
       " 'Voluntary Slaughter - Rabbit'}"
      ]
     },
     "execution_count": 19,
     "metadata": {},
     "output_type": "execute_result"
    }
   ],
   "source": [
    "cur.execute('SELECT activity_name as n FROM activity')\n",
    "set([i[0] for i in cur.fetchall()])"
   ]
  },
  {
   "cell_type": "code",
   "execution_count": 14,
   "id": "45ed6f0f",
   "metadata": {},
   "outputs": [],
   "source": [
    "cur.execute('SELECT * FROM STATE')"
   ]
  },
  {
   "cell_type": "code",
   "execution_count": 15,
   "id": "eb57ee38",
   "metadata": {},
   "outputs": [
    {
     "data": {
      "text/plain": [
       "[('AL', 'Alabama'),\n",
       " ('AK', 'Alaska'),\n",
       " ('AZ', 'Arizona'),\n",
       " ('AR', 'Arkansas'),\n",
       " ('CA', 'California'),\n",
       " ('CO', 'Colorado'),\n",
       " ('CT', 'Connecticut'),\n",
       " ('DE', 'Delaware'),\n",
       " ('FL', 'Florida'),\n",
       " ('GA', 'Georgia'),\n",
       " ('HI', 'Hawaii'),\n",
       " ('ID', 'Idaho'),\n",
       " ('IL', 'Illinois'),\n",
       " ('IN', 'Indiana'),\n",
       " ('IA', 'Iowa'),\n",
       " ('KS', 'Kansas'),\n",
       " ('KY', 'Kentucky'),\n",
       " ('LA', 'Louisiana'),\n",
       " ('ME', 'Maine'),\n",
       " ('MD', 'Maryland'),\n",
       " ('MA', 'Massachusetts'),\n",
       " ('MI', 'Michigan'),\n",
       " ('MN', 'Minnesota'),\n",
       " ('MS', 'Mississippi'),\n",
       " ('MO', 'Missouri'),\n",
       " ('MT', 'Montana'),\n",
       " ('NE', 'Nebraska'),\n",
       " ('NV', 'Nevada'),\n",
       " ('NH', 'New Hampshire'),\n",
       " ('NJ', 'New Jersey'),\n",
       " ('NM', 'New Mexico'),\n",
       " ('NY', 'New York'),\n",
       " ('NC', 'North Carolina'),\n",
       " ('ND', 'North Dakota'),\n",
       " ('OH', 'Ohio'),\n",
       " ('OK', 'Oklahoma'),\n",
       " ('OR', 'Oregon'),\n",
       " ('PA', 'Pennsylvania'),\n",
       " ('RI', 'Rhode Island'),\n",
       " ('SC', 'South Carolina'),\n",
       " ('SD', 'South Dakota'),\n",
       " ('TN', 'Tennessee'),\n",
       " ('TX', 'Texas'),\n",
       " ('UT', 'Utah'),\n",
       " ('VT', 'Vermont'),\n",
       " ('VA', 'Virginia'),\n",
       " ('WA', 'Washington'),\n",
       " ('WV', 'West Virginia'),\n",
       " ('WI', 'Wisconsin'),\n",
       " ('WY', 'Wyoming')]"
      ]
     },
     "execution_count": 15,
     "metadata": {},
     "output_type": "execute_result"
    }
   ],
   "source": [
    "cur.fetchall()"
   ]
  }
 ],
 "metadata": {
  "kernelspec": {
   "display_name": "Python 3 (ipykernel)",
   "language": "python",
   "name": "python3"
  },
  "language_info": {
   "codemirror_mode": {
    "name": "ipython",
    "version": 3
   },
   "file_extension": ".py",
   "mimetype": "text/x-python",
   "name": "python",
   "nbconvert_exporter": "python",
   "pygments_lexer": "ipython3",
   "version": "3.9.10"
  }
 },
 "nbformat": 4,
 "nbformat_minor": 5
}
